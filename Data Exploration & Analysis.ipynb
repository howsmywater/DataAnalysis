{
 "cells": [
  {
   "cell_type": "markdown",
   "metadata": {},
   "source": [
    "# Background info"
   ]
  },
  {
   "cell_type": "markdown",
   "metadata": {},
   "source": [
    "## National Primary Drinking Water Regulations (NPDWR)"
   ]
  },
  {
   "cell_type": "markdown",
   "metadata": {},
   "source": [
    "<strong>National Primary Drinking Water Regulations (NPDWR)</strong> are legally enforceable primary standards and treatment techniques that apply to public water systems. Primary standards and treatment techniques protect public health by limiting the levels of contaminants in drinking water.\n",
    "\n",
    "\n",
    "|Microorganisms|\n",
    "|Disinfectants|\n",
    "|Disinfection Byproducts|\n",
    "|Inorganic Chemicals|\n",
    "|Organic Chemicals|\n",
    "|Radionuclides|\n",
    "\n",
    "https://www.epa.gov/ground-water-and-drinking-water/national-primary-drinking-water-regulations"
   ]
  },
  {
   "cell_type": "markdown",
   "metadata": {},
   "source": [
    "## National Secondary Drinking Water Regulations (NSDWRs)"
   ]
  },
  {
   "cell_type": "markdown",
   "metadata": {},
   "source": [
    "<strong>National Secondary Drinking Water Regulations (NSDWRs)</strong> or secondary standards are non-enforceable guidelines regulating contaminants that may cause cosmetic effects (such as skin or tooth discoloration) or aesthetic effects (such as taste, odor, or color) in drinking water. EPA recommends secondary standards to water systems but does not require systems to comply with the standard. However, states may choose to adopt them as enforceable standards.\n",
    "\n",
    "While secondary standards are not federally enforceable, EPA requires a special notice for exceedance of the fluoride secondary standard of 2.0 mg/L. Community water systems that exceed the fluoride secondary standard of 2 mg/L, but do not exceed the primary standard of 4.0 mg/L for fluoride, must provide public notice to persons served no later than 12 months from the day the water system learns of the exceedance (40 CFR 141.208).\n",
    "\n",
    "List of National Secondary Drinking Water Regulations:\n",
    "\n",
    "|Contaminant\t| Secondary Standard |\n",
    "| ------------- |:-------------:|\n",
    "|Aluminum|\t0.05 to 0.2 mg/L\n",
    "|Chloride|\t250 mg/L\n",
    "|Color|\t15 (color units)\n",
    "|Copper|\t1.0 mg/L\n",
    "|Corrosivity|\tnoncorrosive\n",
    "|Fluoride|\t2.0 mg/L\n",
    "|Foaming Agents|\t0.5 mg/L\n",
    "|Iron|\t0.3 mg/L\n",
    "|Manganese|\t0.05 mg/L\n",
    "|Odor|\t3 threshold odor number\n",
    "|pH|\t6.5-8.5\n",
    "|Silver|\t0.10 mg/L\n",
    "|Sulfate|\t250 mg/L\n",
    "|Total Dissolved Solids|\t500 mg/L\n",
    "|Zinc|\t5 mg/L\n",
    "\n",
    "https://www.epa.gov/dwregdev/drinking-water-regulations-and-contaminants"
   ]
  },
  {
   "cell_type": "markdown",
   "metadata": {},
   "source": [
    "# Analysis"
   ]
  },
  {
   "cell_type": "markdown",
   "metadata": {},
   "source": [
    "## Import the packages"
   ]
  },
  {
   "cell_type": "code",
   "execution_count": 2,
   "metadata": {},
   "outputs": [],
   "source": [
    "import matplotlib.pyplot as plt\n",
    "import requests\n",
    "import json\n",
    "import pandas as pd\n",
    "from pprint import pprint\n",
    "import openweathermapy.core as owm\n",
    "import seaborn as sns\n",
    "import numpy as np"
   ]
  },
  {
   "cell_type": "markdown",
   "metadata": {},
   "source": [
    "## Data Source"
   ]
  },
  {
   "cell_type": "markdown",
   "metadata": {},
   "source": [
    "California Natural Resources Agency: Period of Record by Station and Parameter https://data.cnra.ca.gov/dataset/water-quality-data/resource/8ff3a841-d843-405a-a360-30c740cc8691\n",
    "\n",
    "We'll be working from a CSV document, downloaded from the url cited above. An API is also available."
   ]
  },
  {
   "cell_type": "markdown",
   "metadata": {},
   "source": [
    "## Filter the dataset"
   ]
  },
  {
   "cell_type": "markdown",
   "metadata": {},
   "source": [
    "#### Filtering the Raw Dataset"
   ]
  },
  {
   "cell_type": "code",
   "execution_count": 5,
   "metadata": {},
   "outputs": [
    {
     "name": "stdout",
     "output_type": "stream",
     "text": [
      "(4278088, 17)\n"
     ]
    }
   ],
   "source": [
    "# Import the data (would have rather used the API, but the csv will do for now)\n",
    "data = \"data/lab-results.csv\"\n",
    "df = pd.read_csv(data)\n",
    "\n",
    "print(df.shape) # yikes! --> (4278088, 17)\n",
    "\n",
    "# We need to filter this huge dataset, perhaps by selecting sample measurements from 2000 onward."
   ]
  },
  {
   "cell_type": "code",
   "execution_count": 6,
   "metadata": {},
   "outputs": [],
   "source": [
    "# I want to categorize my data by years; I need to splice the data field\n",
    "df[\"sampleYear\"] = pd.DatetimeIndex(df['SAMPLE_DATE']).year"
   ]
  },
  {
   "cell_type": "markdown",
   "metadata": {},
   "source": [
    "Filtering the Raw Dataset between the years 2000-present (2018)"
   ]
  },
  {
   "cell_type": "code",
   "execution_count": 7,
   "metadata": {},
   "outputs": [
    {
     "name": "stdout",
     "output_type": "stream",
     "text": [
      "(874334, 18)\n",
      "Index(['STATION_ID', 'STATION_NAME', 'FULL_STATION_NAME', 'STATION_NUMBER',\n",
      "       'STATION_TYPE', 'LATITUDE', 'LONGITUDE', 'COUNTY_NAME', 'SAMPLE_CODE',\n",
      "       'SAMPLE_DATE', 'SAMPLE_DEPTH', 'SAMPLE_DEPTH_UNITS', 'PARAMETER',\n",
      "       'RESULT', 'REPORTING_LIMIT', 'UNITS', 'METHOD_NAME', 'sampleYear'],\n",
      "      dtype='object')\n"
     ]
    }
   ],
   "source": [
    "df = df[(df['sampleYear'] > 1999) & (df['sampleYear'] <= 2018)]\n",
    "print(df.shape) # OK...somewhat better --> (874334, 18)\n",
    "print(df.columns) "
   ]
  },
  {
   "cell_type": "code",
   "execution_count": 12,
   "metadata": {},
   "outputs": [
    {
     "name": "stdout",
     "output_type": "stream",
     "text": [
      "-------------------Filter Data Summary---------------------\n",
      "\n",
      "--------------------Sample Size per Year, 2000-2018---------------------\n",
      "sampleYear\n",
      "2000    52323\n",
      "2001    61553\n",
      "2002    44572\n",
      "2003    71396\n",
      "2004    69077\n",
      "2005    59710\n",
      "2006    66716\n",
      "2007    61033\n",
      "2008    41868\n",
      "2009    41151\n",
      "2010    39286\n",
      "2011    43660\n",
      "2012    41479\n",
      "2013    31578\n",
      "2014    34889\n",
      "2015    36559\n",
      "2016    36421\n",
      "2017    32893\n",
      "2018     8170\n",
      "dtype: int64\n",
      "\n",
      "----------------Count of Parameters measurements--------------------\n",
      "Dissolved Chloride               20759\n",
      "Total Dissolved Solids           19274\n",
      "Dissolved Sulfate                18733\n",
      "Dissolved Ammonia                18620\n",
      "Dissolved Calcium                18352\n",
      "Dissolved Magnesium              18209\n",
      "Dissolved Sodium                 18095\n",
      "Dissolved Boron                  18079\n",
      "Dissolved Hardness               18009\n",
      "Dissolved Ortho-phosphate        17704\n",
      "Dissolved Nitrate + Nitrite      17582\n",
      "pH                               17057\n",
      "Total Alkalinity                 16667\n",
      "Total Phosphorus                 16202\n",
      "Specific Conductance             14838\n",
      "Dissolved Potassium              14821\n",
      "Total Organic Carbon             13670\n",
      "Dissolved Arsenic                12336\n",
      "Total Suspended Solids           12058\n",
      "Dissolved Organic Carbon         11984\n",
      "Dissolved Selenium               11121\n",
      "Dissolved Copper                 10568\n",
      "Dissolved Iron                   10547\n",
      "Dissolved Bromide                10384\n",
      "Dissolved Manganese              10308\n",
      "Dissolved Nitrate                10264\n",
      "Dissolved Aluminum                9705\n",
      "Dissolved Zinc                    9522\n",
      "Dissolved Chromium                9508\n",
      "Dissolved Nickel                  9471\n",
      "                                 ...  \n",
      "Bifenthrin                          25\n",
      "Prallethrin                         25\n",
      "Fenvalerate                         25\n",
      "Tefluthrin                          25\n",
      "Sumithrin                           25\n",
      "Total Oil and Grease                25\n",
      "l-Cyhalothrin                       25\n",
      "Fecal Coliform                      24\n",
      "Total Coliform                      24\n",
      "Deltamethrin/Tralomethrin           22\n",
      "Color                               18\n",
      "Total Thallium                      16\n",
      "Propargite                           8\n",
      "Ronnel                               8\n",
      "Total Strontium                      6\n",
      "Bromide                              6\n",
      "4,4'-Dibromoctafluorobiphenyl        4\n",
      "Bicarbonate (HCO3-)                  4\n",
      "Deltamethrin                         3\n",
      "Dissolved Uranium                    3\n",
      "Tralomethrin                         3\n",
      "4-Bromofluorobenzene                 3\n",
      "Dissolved Methyl Mercury             2\n",
      "Total Methyl Mercury                 2\n",
      "Total Lithium                        2\n",
      "Total Vanadium                       1\n",
      "Total Molybdenum                     1\n",
      "Total Cobalt                         1\n",
      "2,3-Dibromopropionic acid            1\n",
      "Settleable Solids                    1\n",
      "Length: 284, dtype: int64\n"
     ]
    }
   ],
   "source": [
    "print('-------------------Filter Data Summary---------------------')\n",
    "print('')\n",
    "print('--------------------Sample Size per Year, 2000-2018---------------------')\n",
    "print(df.groupby('sampleYear').size())\n",
    "print('')\n",
    "print('----------------Count of Parameters measurements--------------------')\n",
    "print(pd.value_counts(df['PARAMETER'].values, sort=True))"
   ]
  },
  {
   "cell_type": "code",
   "execution_count": 13,
   "metadata": {},
   "outputs": [
    {
     "data": {
      "text/plain": [
       "array(['Dissolved Aluminum', 'Dissolved Ammonia', 'Dissolved Antimony',\n",
       "       'Dissolved Arsenic', 'Dissolved Barium', 'Dissolved Beryllium',\n",
       "       'Dissolved Boron', 'Dissolved Bromide', 'Dissolved Cadmium',\n",
       "       'Dissolved Calcium', 'Dissolved Chloride', 'Dissolved Chromium',\n",
       "       'Dissolved Copper', 'Dissolved Fluoride', 'Dissolved Hardness',\n",
       "       'Dissolved Iron', 'Dissolved Lead', 'Dissolved Magnesium',\n",
       "       'Dissolved Manganese', 'Dissolved Mercury', 'Dissolved Nickel',\n",
       "       'Dissolved Nitrate', 'Dissolved Nitrate + Nitrite',\n",
       "       'Dissolved Ortho-phosphate', 'Dissolved Selenium',\n",
       "       'Dissolved Silver', 'Dissolved Sodium', 'Dissolved Sulfate',\n",
       "       'Dissolved Zinc', 'Specific Conductance', 'Total Alkalinity',\n",
       "       'Total Dissolved Solids', 'Total Kjeldahl Nitrogen',\n",
       "       'Total Phosphorus', 'pH', '1,1,1,2-Tetrachloroethane',\n",
       "       '1,1,1-Trichloroethane', '1,1,2,2-Tetrachloroethane',\n",
       "       '1,1,2-Trichloroethane', '1,1-Dichloroethane',\n",
       "       '1,1-Dichloroethene', '1,1-Dichloropropene',\n",
       "       '1,2,3-Trichlorobenzene', '1,2,3-Trichloropropane',\n",
       "       '1,2,4-Trichlorobenzene', '1,2,4-Trimethylbenzene',\n",
       "       '1,2-Dibromo-3-chloropropane (DBCP)', '1,2-Dibromoethane (EDB)',\n",
       "       '1,2-Dichlorobenzene', '1,2-Dichloroethane', '1,2-Dichloropropane',\n",
       "       '1,3,5-Trimethylbenzene', '1,3-Dichlorobenzene',\n",
       "       '1,3-Dichloropropane', '1,4-Dichlorobenzene',\n",
       "       '2,2-Dichloropropane', '2-Chlorotoluene', '4-Chlorotoluene',\n",
       "       '4-Isopropyltoluene', 'Benzene', 'Bromobenzene',\n",
       "       'Bromochloromethane', 'Bromodichloromethane', 'Bromoform',\n",
       "       'Bromomethane', 'Carbon tetrachloride', 'Chlorobenzene',\n",
       "       'Chloroethane', 'Chloroform', 'Chloromethane',\n",
       "       'Dibromochloromethane', 'Dibromomethane',\n",
       "       'Dichlorodifluoromethane', 'Dissolved Organic Carbon',\n",
       "       'Ethyl benzene', 'Hexachlorobutadiene', 'Isopropylbenzene',\n",
       "       'Methyl tert-butyl ether (MTBE)', 'Methylene chloride',\n",
       "       'Naphthalene', 'Styrene', 'Tetrachloroethene', 'Toluene',\n",
       "       'Total Aluminum', 'Total Antimony', 'Total Arsenic',\n",
       "       'Total Barium', 'Total Beryllium', 'Total Cadmium',\n",
       "       'Total Chromium', 'Total Copper', 'Total Iron', 'Total Lead',\n",
       "       'Total Manganese', 'Total Nickel', 'Total Organic Carbon',\n",
       "       'Total Selenium', 'Total Silver', 'Total Suspended Solids',\n",
       "       'Total Zinc', 'Trichloroethene', 'Trichlorofluoromethane',\n",
       "       'Turbidity', 'Vinyl chloride', 'Volatile Suspended Solids',\n",
       "       'cis-1,2-Dichloroethene', 'cis-1,3-Dichloropropene',\n",
       "       'm + p Xylene', 'n-Butylbenzene', 'n-Propylbenzene', 'o-Xylene',\n",
       "       'sec-Butylbenzene', 'tert-Butylbenzene',\n",
       "       'trans-1,2-Dichloroethene', 'trans-1,3-Dichloropropene',\n",
       "       'UV Absorbance @254nm', 'Escherichia coli', '2,4,5-T',\n",
       "       '2,4,5-TP (Silvex)', '2,4-D', '2,4-DB', '3-Hydroxycarbofuran',\n",
       "       'Alachlor', 'Aldicarb', 'Aldicarb sulfone', 'Aldicarb sulfoxide',\n",
       "       'Aldrin', 'Atrazine', 'Azinphos methyl (Guthion)', 'BHC-alpha',\n",
       "       'BHC-beta', 'BHC-delta', 'BHC-gamma (Lindane)', 'Benfluralin',\n",
       "       'Bromacil', 'Captan', 'Carbaryl', 'Carbofuran',\n",
       "       'Carbophenothion (Trithion)', 'Chlordane', 'Chlorothalonil',\n",
       "       'Chlorpropham', 'Chlorpyrifos', 'Cyanazine', 'Dacthal (DCPA)',\n",
       "       'Demeton (Demeton O + Demeton S)', 'Diazinon', 'Dicamba',\n",
       "       'Dichloran', 'Dichlorprop', 'Dicofol', 'Dieldrin', 'Dimethoate',\n",
       "       'Dinoseb (DNPB)', 'Dissolved Chromium, hexavalent (Cr6+)',\n",
       "       'Disulfoton', 'Diuron', 'Endosulfan sulfate', 'Endosulfan-I',\n",
       "       'Endosulfan-II', 'Endrin', 'Endrin aldehyde', 'Ethion',\n",
       "       'Glyphosate', 'Heptachlor', 'Heptachlor epoxide', 'MCPA', 'MCPP',\n",
       "       'Malathion', 'Methidathion', 'Methomyl', 'Methoxychlor',\n",
       "       'Metolachlor', 'Mevinphos', 'Naled', 'Napropamide', 'Norflurazon',\n",
       "       'Oxamyl', 'Oxyfluorfen', 'PCB-1016', 'PCB-1221', 'PCB-1232',\n",
       "       'PCB-1242', 'PCB-1248', 'PCB-1254', 'PCB-1260', 'Parathion, Ethyl',\n",
       "       'Parathion, Methyl', 'Pendimethalin',\n",
       "       'Pentachloronitrobenzene (PCNB)', 'Pentachlorophenol (PCP)',\n",
       "       'Phorate', 'Phosalone', 'Phosmet', 'Picloram', 'Profenofos',\n",
       "       'Prometryn', 'Propetamphos', 'Simazine', 'Thiobencarb',\n",
       "       'Toxaphene', 'Triclopyr', 'Trifluralin', \"p,p'-DDD\", \"p,p'-DDE\",\n",
       "       \"p,p'-DDT\", 's,s,s-Tributyl Phosphorotrithioate (DEF)',\n",
       "       'Aminomethylphosphonic Acid (AMPA)', 'Formetanate hydrochloride',\n",
       "       'Methiocarb', 'Bromochloroacetic Acid (BCAA)',\n",
       "       'Dibromoacetic Acid (DBAA)', 'Dichloroacetic Acid (DCAA)',\n",
       "       'Monobromoacetic Acid (MBAA)', 'Monochloroacetic Acid (MCAA)',\n",
       "       'Trichloroacetic Acid (TCAA)', 'Dissolved Potassium',\n",
       "       '4-Bromofluorobenzene', '*No Lab Analyses (Field Measures Only)',\n",
       "       'Esfenvalerate', 'Molinate', 'Permethrin', \"o,p'-DDE\",\n",
       "       'Chloropropham', 'Propoxur', 'Dissolved Thallium', 'Propargite',\n",
       "       'Total Thallium', 'Dissolved Nitrite', '2,3-Dibromopropionic acid',\n",
       "       'Dissolved Bicarbonate (HCO3-)', 'Dissolved Carbonate (CO3--)',\n",
       "       'Dissolved Hydroxide (OH-)', 'Total Calcium', 'Total Magnesium',\n",
       "       'Total Hardness', 'Total Mercury', 'Dissolved Organic Nitrogen',\n",
       "       'Total Oil and Grease', 'Dissolved Silica (SiO2)', 'Chlorophyll a',\n",
       "       'Pheophytin a', 'Biochemical Oxygen Demand',\n",
       "       'Carbonaceous Biochemical Oxygen Demand',\n",
       "       'Dissolved Total Kjeldahl Nitrogen', 'Dissolved Molybdenum',\n",
       "       'Settleable Solids', 'Total Strontium', 'Total Lithium',\n",
       "       'Total Cobalt', 'Total Molybdenum', 'Total Vanadium', 'Ronnel',\n",
       "       'Dissolved Uranium', 'Bicarbonate (HCO3-)', 'Dissolved Lithium',\n",
       "       'Dissolved Strontium', 'Total Ammonia', 'Total Organic Nitrogen',\n",
       "       'Dissolved Cobalt', 'Dissolved Vanadium',\n",
       "       \"4,4'-Dibromoctafluorobiphenyl\", 'Allethrin', 'Bifenthrin',\n",
       "       'Cyfluthrin', 'Cypermethrin', 'Deltamethrin/Tralomethrin',\n",
       "       'Fenvalerate', 'Prallethrin', 'Sumithrin', 'Tefluthrin',\n",
       "       'l-Cyhalothrin', 'Fecal Coliform', 'Total Coliform',\n",
       "       'Deltamethrin', 'Tralomethrin', 'Bromide', 'Total Potassium',\n",
       "       'Total Sodium', 'Haloacetic Acid Formation Potential (HAAFP)',\n",
       "       'Trihalomethane Formation Potential (THMFP)',\n",
       "       'Dissolved Methyl Mercury', 'Total Methyl Mercury', 'Color'],\n",
       "      dtype=object)"
      ]
     },
     "execution_count": 13,
     "metadata": {},
     "output_type": "execute_result"
    }
   ],
   "source": [
    "df['PARAMETER'].unique()"
   ]
  },
  {
   "cell_type": "markdown",
   "metadata": {},
   "source": [
    "Now we'll select the PARAMETER attributes, i.e. the contaminants of interest for our analysis, into separate dataframes: primary and secondary water standards as defined by the EPA. We'll furthermore re-export these dataframes into their respective CSVs due to GitHub's upload restriction (the raw CSV file exceeding well 100.00 MB; hence why you won't find the original CSV on this GitHub's data folder). "
   ]
  },
  {
   "cell_type": "code",
   "execution_count": 17,
   "metadata": {},
   "outputs": [
    {
     "name": "stdout",
     "output_type": "stream",
     "text": [
      "(34510, 18)\n",
      "(126890, 18)\n",
      "missing SMCLs: Corrosivity, Foaming Agents, Odor\n"
     ]
    }
   ],
   "source": [
    "PMCLs = df.loc[(df['PARAMETER'] == 'Total Arsenic') | (df['PARAMETER'] == 'Total Mercury') | (df['PARAMETER'] == 'Dissolved Nitrate') | (df['PARAMETER'] == 'Total Lead') | (df['PARAMETER'] == 'Total Selenium')]\n",
    "print(PMCLs.shape) \n",
    "SMCLs = df.loc[(df['PARAMETER'] == 'Total Aluminum') | (df['PARAMETER'] == 'Dissolved Chloride') | (df['PARAMETER'] == 'Color') | (df['PARAMETER'] == 'Total Copper') | (df['PARAMETER'] == 'Dissolved Fluoride')  | (df['PARAMETER'] == 'Total Iron')  | (df['PARAMETER'] == 'Dissolved Manganese')  | (df['PARAMETER'] == 'pH')| (df['PARAMETER'] == 'Total Silver')| (df['PARAMETER'] == 'Dissolved Sulfate')| (df['PARAMETER'] == 'Total Dissolved Solids')| (df['PARAMETER'] == 'Total Zinc')]\n",
    "print(SMCLs.shape) \n",
    "\n",
    "print(\"missing SMCLs: Corrosivity, Foaming Agents, Odor\")"
   ]
  },
  {
   "cell_type": "markdown",
   "metadata": {},
   "source": [
    "Re-export to a csv"
   ]
  },
  {
   "cell_type": "code",
   "execution_count": 18,
   "metadata": {},
   "outputs": [],
   "source": [
    "PMCLs.to_csv(\"data/PMCLs_00-18.csv\",index=False)\n",
    "SMCLs.to_csv(\"data/SMCLs_00-18.csv\",index=False)"
   ]
  },
  {
   "cell_type": "markdown",
   "metadata": {},
   "source": [
    "## Observe the distribution"
   ]
  },
  {
   "cell_type": "markdown",
   "metadata": {},
   "source": [
    "### PMCLs"
   ]
  },
  {
   "cell_type": "markdown",
   "metadata": {},
   "source": [
    "Re-import the csv to dataframe"
   ]
  },
  {
   "cell_type": "code",
   "execution_count": 20,
   "metadata": {},
   "outputs": [],
   "source": [
    "PMCLs = pd.read_csv(\"data/PMCLs_00-18.csv\")\n",
    "PMCLs = PMCLs.drop(['STATION_NAME','STATION_NUMBER'],\n",
    "                        axis=1)"
   ]
  },
  {
   "cell_type": "markdown",
   "metadata": {},
   "source": [
    "### Geographic distribution of samples"
   ]
  },
  {
   "cell_type": "code",
   "execution_count": 22,
   "metadata": {},
   "outputs": [
    {
     "data": {
      "image/png": "[encoded data removed]",
      "text/plain": [
       "<Figure size 432x432 with 3 Axes>"
      ]
     },
     "metadata": {},
     "output_type": "display_data"
    }
   ],
   "source": [
    "X = PMCLs[['LATITUDE', 'LONGITUDE']].values\n",
    "sns.jointplot(x=\"LONGITUDE\", y=\"LATITUDE\", data=PMCLs);"
   ]
  },
  {
   "cell_type": "code",
   "execution_count": 33,
   "metadata": {},
   "outputs": [
    {
     "name": "stdout",
     "output_type": "stream",
     "text": [
      "-------------------Filter Data Summary---------------------\n",
      "\n",
      "--------------------Sample Size per Year, 2000-2018---------------------\n",
      "sampleYear\n",
      "2000     522\n",
      "2001     823\n",
      "2002     605\n",
      "2003    2475\n",
      "2004    3026\n",
      "2005    2782\n",
      "2006    2993\n",
      "2007    2668\n",
      "2008    1638\n",
      "2009    1346\n",
      "2010    1386\n",
      "2011    1887\n",
      "2012    2229\n",
      "2013    1839\n",
      "2014    1936\n",
      "2015    2131\n",
      "2016    2029\n",
      "2017    1821\n",
      "2018     374\n",
      "dtype: int64\n",
      "\n",
      "----------------Count of Parameter measurements--------------------\n",
      "Dissolved Nitrate    10264\n",
      "Total Arsenic         7747\n",
      "Total Lead            7423\n",
      "Total Selenium        7237\n",
      "Total Mercury         1839\n",
      "dtype: int64\n"
     ]
    }
   ],
   "source": [
    "print('-------------------Filter Data Summary---------------------')\n",
    "print('')\n",
    "print('--------------------Sample Size per Year, 2000-2018---------------------')\n",
    "print(PMCLs.groupby('sampleYear').size())\n",
    "print('')\n",
    "print('----------------Count of Parameter measurements--------------------')\n",
    "print(pd.value_counts(PMCLs['PARAMETER'].values, sort=True))"
   ]
  },
  {
   "cell_type": "markdown",
   "metadata": {},
   "source": [
    "### Histogram"
   ]
  },
  {
   "cell_type": "markdown",
   "metadata": {},
   "source": [
    "#### Normalize the units for all measurements\n",
    "\n",
    "Convert all where the unit measurement is ug/L to mg/L (1000 mg/L = 1 ug/L); (1000000 mg/L = 1 ng/L)"
   ]
  },
  {
   "cell_type": "code",
   "execution_count": 55,
   "metadata": {},
   "outputs": [
    {
     "name": "stdout",
     "output_type": "stream",
     "text": [
      "Unit types: ['mg/L' 'ug/L' 'ng/L']\n"
     ]
    }
   ],
   "source": [
    "print(\"Unit types: \" + str(PMCLs['UNITS'].unique()))\n",
    "\n",
    "# Conversion query ug/L -> mg/L\n",
    "PMCLs['RESULT'] = np.where(PMCLs['UNITS'] == 'ug/L', PMCLs['RESULT'] / 1000, PMCLs['RESULT'])\n",
    "\n",
    "# Conversion query ng/L -> mg/L\n",
    "PMCLs['RESULT'] = np.where(PMCLs['UNITS'] == 'ng/L', PMCLs['RESULT'] / 1000000, PMCLs['RESULT'])"
   ]
  },
  {
   "cell_type": "code",
   "execution_count": 58,
   "metadata": {},
   "outputs": [
    {
     "data": {
      "text/plain": [
       "<matplotlib.axes._subplots.AxesSubplot at 0x262d8896ac8>"
      ]
     },
     "execution_count": 58,
     "metadata": {},
     "output_type": "execute_result"
    },
    {
     "data": {
      "image/png": "[encoded data removed]",
      "text/plain": [
       "<Figure size 864x576 with 1 Axes>"
      ]
     },
     "metadata": {},
     "output_type": "display_data"
    }
   ],
   "source": [
    "PMCLs.boxplot(column=\"RESULT\",        # Column to plot\n",
    "                 by= \"PARAMETER\",         # Column to split upon\n",
    "                 figsize= (12,8))  "
   ]
  },
  {
   "cell_type": "markdown",
   "metadata": {},
   "source": [
    "We may need to bin the histograms to avoid outliers skewing our observation; some outliers can also be the product of error during data entry!\n",
    "\n",
    "Also a separate histogram between Dissolved Nitrate and the rest would be probably best!"
   ]
  },
  {
   "cell_type": "markdown",
   "metadata": {},
   "source": [
    "### PMCLs"
   ]
  },
  {
   "cell_type": "markdown",
   "metadata": {},
   "source": [
    "### Geographic distribution of samples"
   ]
  },
  {
   "cell_type": "markdown",
   "metadata": {},
   "source": [
    "Re-import the csv to dataframe"
   ]
  },
  {
   "cell_type": "code",
   "execution_count": 28,
   "metadata": {},
   "outputs": [],
   "source": [
    "SMCLs = pd.read_csv(\"data/SMCLs_00-18.csv\")\n",
    "SMCLs = SMCLs.drop(['STATION_NAME','STATION_NUMBER'],\n",
    "                        axis=1)"
   ]
  },
  {
   "cell_type": "markdown",
   "metadata": {},
   "source": [
    "### Geographic distribution of samples"
   ]
  },
  {
   "cell_type": "code",
   "execution_count": 29,
   "metadata": {},
   "outputs": [
    {
     "data": {
      "image/png": "[encoded data removed]",
      "text/plain": [
       "<Figure size 432x432 with 3 Axes>"
      ]
     },
     "metadata": {},
     "output_type": "display_data"
    }
   ],
   "source": [
    "X = SMCLs[['LATITUDE', 'LONGITUDE']].values\n",
    "sns.jointplot(x=\"LONGITUDE\", y=\"LATITUDE\", data=SMCLs);"
   ]
  },
  {
   "cell_type": "code",
   "execution_count": 34,
   "metadata": {},
   "outputs": [
    {
     "name": "stdout",
     "output_type": "stream",
     "text": [
      "-------------------Filter Data Summary---------------------\n",
      "\n",
      "--------------------Sample Size per Year, 2000-2018---------------------\n",
      "sampleYear\n",
      "2000     4926\n",
      "2001     5261\n",
      "2002     5519\n",
      "2003    10299\n",
      "2004    11142\n",
      "2005    10354\n",
      "2006     9808\n",
      "2007     8605\n",
      "2008     6225\n",
      "2009     5534\n",
      "2010     5616\n",
      "2011     6318\n",
      "2012     6718\n",
      "2013     5277\n",
      "2014     5946\n",
      "2015     6135\n",
      "2016     6304\n",
      "2017     5677\n",
      "2018     1226\n",
      "dtype: int64\n",
      "\n",
      "----------------Count of Parameter measurements--------------------\n",
      "Dissolved Chloride        20759\n",
      "Total Dissolved Solids    19274\n",
      "Dissolved Sulfate         18733\n",
      "pH                        17057\n",
      "Dissolved Manganese       10308\n",
      "Total Iron                 8393\n",
      "Total Aluminum             7985\n",
      "Total Copper               7850\n",
      "Total Zinc                 7427\n",
      "Total Silver               7168\n",
      "Dissolved Fluoride         1918\n",
      "Color                        18\n",
      "dtype: int64\n"
     ]
    }
   ],
   "source": [
    "print('-------------------Filter Data Summary---------------------')\n",
    "print('')\n",
    "print('--------------------Sample Size per Year, 2000-2018---------------------')\n",
    "print(SMCLs.groupby('sampleYear').size())\n",
    "print('')\n",
    "print('----------------Count of Parameter measurements--------------------')\n",
    "print(pd.value_counts(SMCLs['PARAMETER'].values, sort=True))"
   ]
  },
  {
   "cell_type": "markdown",
   "metadata": {},
   "source": [
    "### Histogram"
   ]
  },
  {
   "cell_type": "markdown",
   "metadata": {},
   "source": [
    "<strong> Warning! Certain contaminants were measured with different units (Total Aluminum measured in both mg/L & ug/L for example); make sure to normalize the data if need be!"
   ]
  },
  {
   "cell_type": "markdown",
   "metadata": {},
   "source": [
    "#### Normalize the units for all measurements\n",
    "\n",
    "Convert all where the unit measurement is ug/L to mg/L (1000 mg/L = 1 ug/L)"
   ]
  },
  {
   "cell_type": "code",
   "execution_count": 49,
   "metadata": {},
   "outputs": [
    {
     "name": "stdout",
     "output_type": "stream",
     "text": [
      "Unit types: ['mg/L' 'pH Units' 'ug/L' 'Color Units']\n"
     ]
    }
   ],
   "source": [
    "print(\"Unit types: \" + str(SMCLs['UNITS'].unique()))\n",
    "\n",
    "# Conversion query\n",
    "SMCLs['RESULT'] = np.where(SMCLs['UNITS'] == 'ug/L', SMCLs['RESULT'] / 1000, SMCLs['RESULT'])"
   ]
  },
  {
   "cell_type": "code",
   "execution_count": 45,
   "metadata": {},
   "outputs": [
    {
     "data": {
      "text/plain": [
       "<matplotlib.axes._subplots.AxesSubplot at 0x262d8cdb748>"
      ]
     },
     "execution_count": 45,
     "metadata": {},
     "output_type": "execute_result"
    },
    {
     "data": {
      "image/png": "[encoded data removed]",
      "text/plain": [
       "<Figure size 1296x864 with 1 Axes>"
      ]
     },
     "metadata": {},
     "output_type": "display_data"
    }
   ],
   "source": [
    "SMCLs.boxplot(column=\"RESULT\",        # Column to plot\n",
    "                 by= \"PARAMETER\",         # Column to split upon\n",
    "                 figsize= (18,12))"
   ]
  },
  {
   "cell_type": "markdown",
   "metadata": {},
   "source": [
    "We need to separate histogram by measurement units to get a better observational picture."
   ]
  }
 ],
 "metadata": {
  "kernelspec": {
   "display_name": "Python 3",
   "language": "python",
   "name": "python3"
  },
  "language_info": {
   "codemirror_mode": {
    "name": "ipython",
    "version": 3
   },
   "file_extension": ".py",
   "mimetype": "text/x-python",
   "name": "python",
   "nbconvert_exporter": "python",
   "pygments_lexer": "ipython3",
   "version": "3.6.5"
  }
 },
 "nbformat": 4,
 "nbformat_minor": 2
}
