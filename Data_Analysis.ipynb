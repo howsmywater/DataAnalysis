{
 "cells": [
  {
   "cell_type": "code",
   "execution_count": null,
   "metadata": {},
   "outputs": [],
   "source": [
    "# Data source:\n",
    "    # https://data.cnra.ca.gov/dataset/water-quality-data/resource/8ff3a841-d843-405a-a360-30c740cc8691"
   ]
  },
  {
   "cell_type": "code",
   "execution_count": 1,
   "metadata": {},
   "outputs": [],
   "source": [
    "import matplotlib.pyplot as plt\n",
    "import requests\n",
    "import json\n",
    "import pandas as pd\n",
    "from pprint import pprint\n",
    "import openweathermapy.core as owm\n",
    "import seaborn as sns\n",
    "import numpy as np"
   ]
  },
  {
   "cell_type": "code",
   "execution_count": 33,
   "metadata": {},
   "outputs": [
    {
     "name": "stdout",
     "output_type": "stream",
     "text": [
      "(4278088, 17)\n"
     ]
    },
    {
     "data": {
      "text/html": [
       "<div>\n",
       "<style scoped>\n",
       "    .dataframe tbody tr th:only-of-type {\n",
       "        vertical-align: middle;\n",
       "    }\n",
       "\n",
       "    .dataframe tbody tr th {\n",
       "        vertical-align: top;\n",
       "    }\n",
       "\n",
       "    .dataframe thead th {\n",
       "        text-align: right;\n",
       "    }\n",
       "</style>\n",
       "<table border=\"1\" class=\"dataframe\">\n",
       "  <thead>\n",
       "    <tr style=\"text-align: right;\">\n",
       "      <th></th>\n",
       "      <th>STATION_ID</th>\n",
       "      <th>STATION_NAME</th>\n",
       "      <th>FULL_STATION_NAME</th>\n",
       "      <th>STATION_NUMBER</th>\n",
       "      <th>STATION_TYPE</th>\n",
       "      <th>LATITUDE</th>\n",
       "      <th>LONGITUDE</th>\n",
       "      <th>COUNTY_NAME</th>\n",
       "      <th>SAMPLE_CODE</th>\n",
       "      <th>SAMPLE_DATE</th>\n",
       "      <th>SAMPLE_DEPTH</th>\n",
       "      <th>SAMPLE_DEPTH_UNITS</th>\n",
       "      <th>PARAMETER</th>\n",
       "      <th>RESULT</th>\n",
       "      <th>REPORTING_LIMIT</th>\n",
       "      <th>UNITS</th>\n",
       "      <th>METHOD_NAME</th>\n",
       "    </tr>\n",
       "  </thead>\n",
       "  <tbody>\n",
       "    <tr>\n",
       "      <th>0</th>\n",
       "      <td>8135</td>\n",
       "      <td>01S04E32C001M</td>\n",
       "      <td>01S04E32C001M</td>\n",
       "      <td>01S04E32C001M</td>\n",
       "      <td>Groundwater</td>\n",
       "      <td>37.8073</td>\n",
       "      <td>-121.562</td>\n",
       "      <td>Alameda</td>\n",
       "      <td>WDIS_0719152</td>\n",
       "      <td>05/03/1967 09:00</td>\n",
       "      <td>NaN</td>\n",
       "      <td>Feet</td>\n",
       "      <td>Conductance</td>\n",
       "      <td>3480.0</td>\n",
       "      <td>1.0</td>\n",
       "      <td>uS/cm</td>\n",
       "      <td>EPA 120.1</td>\n",
       "    </tr>\n",
       "    <tr>\n",
       "      <th>1</th>\n",
       "      <td>8135</td>\n",
       "      <td>01S04E32C001M</td>\n",
       "      <td>01S04E32C001M</td>\n",
       "      <td>01S04E32C001M</td>\n",
       "      <td>Groundwater</td>\n",
       "      <td>37.8073</td>\n",
       "      <td>-121.562</td>\n",
       "      <td>Alameda</td>\n",
       "      <td>WDIS_0719152</td>\n",
       "      <td>05/03/1967 09:00</td>\n",
       "      <td>NaN</td>\n",
       "      <td>Feet</td>\n",
       "      <td>Dissolved Boron</td>\n",
       "      <td>7.7</td>\n",
       "      <td>0.1</td>\n",
       "      <td>mg/L</td>\n",
       "      <td>Std Method 4500-B, C</td>\n",
       "    </tr>\n",
       "    <tr>\n",
       "      <th>2</th>\n",
       "      <td>8135</td>\n",
       "      <td>01S04E32C001M</td>\n",
       "      <td>01S04E32C001M</td>\n",
       "      <td>01S04E32C001M</td>\n",
       "      <td>Groundwater</td>\n",
       "      <td>37.8073</td>\n",
       "      <td>-121.562</td>\n",
       "      <td>Alameda</td>\n",
       "      <td>WDIS_0719152</td>\n",
       "      <td>05/03/1967 09:00</td>\n",
       "      <td>NaN</td>\n",
       "      <td>Feet</td>\n",
       "      <td>Dissolved Calcium</td>\n",
       "      <td>68.0</td>\n",
       "      <td>1.0</td>\n",
       "      <td>mg/L</td>\n",
       "      <td>EPA 215.2</td>\n",
       "    </tr>\n",
       "    <tr>\n",
       "      <th>3</th>\n",
       "      <td>8135</td>\n",
       "      <td>01S04E32C001M</td>\n",
       "      <td>01S04E32C001M</td>\n",
       "      <td>01S04E32C001M</td>\n",
       "      <td>Groundwater</td>\n",
       "      <td>37.8073</td>\n",
       "      <td>-121.562</td>\n",
       "      <td>Alameda</td>\n",
       "      <td>WDIS_0719152</td>\n",
       "      <td>05/03/1967 09:00</td>\n",
       "      <td>NaN</td>\n",
       "      <td>Feet</td>\n",
       "      <td>Dissolved Chloride</td>\n",
       "      <td>758.0</td>\n",
       "      <td>0.1</td>\n",
       "      <td>mg/L</td>\n",
       "      <td>Std Method 4500-Cl, B</td>\n",
       "    </tr>\n",
       "    <tr>\n",
       "      <th>4</th>\n",
       "      <td>8135</td>\n",
       "      <td>01S04E32C001M</td>\n",
       "      <td>01S04E32C001M</td>\n",
       "      <td>01S04E32C001M</td>\n",
       "      <td>Groundwater</td>\n",
       "      <td>37.8073</td>\n",
       "      <td>-121.562</td>\n",
       "      <td>Alameda</td>\n",
       "      <td>WDIS_0719152</td>\n",
       "      <td>05/03/1967 09:00</td>\n",
       "      <td>NaN</td>\n",
       "      <td>Feet</td>\n",
       "      <td>Dissolved Magnesium</td>\n",
       "      <td>59.0</td>\n",
       "      <td>0.1</td>\n",
       "      <td>mg/L</td>\n",
       "      <td>Std Method 3500-Mg, E</td>\n",
       "    </tr>\n",
       "  </tbody>\n",
       "</table>\n",
       "</div>"
      ],
      "text/plain": [
       "   STATION_ID   STATION_NAME FULL_STATION_NAME STATION_NUMBER STATION_TYPE  \\\n",
       "0        8135  01S04E32C001M     01S04E32C001M  01S04E32C001M  Groundwater   \n",
       "1        8135  01S04E32C001M     01S04E32C001M  01S04E32C001M  Groundwater   \n",
       "2        8135  01S04E32C001M     01S04E32C001M  01S04E32C001M  Groundwater   \n",
       "3        8135  01S04E32C001M     01S04E32C001M  01S04E32C001M  Groundwater   \n",
       "4        8135  01S04E32C001M     01S04E32C001M  01S04E32C001M  Groundwater   \n",
       "\n",
       "   LATITUDE  LONGITUDE COUNTY_NAME   SAMPLE_CODE       SAMPLE_DATE  \\\n",
       "0   37.8073   -121.562     Alameda  WDIS_0719152  05/03/1967 09:00   \n",
       "1   37.8073   -121.562     Alameda  WDIS_0719152  05/03/1967 09:00   \n",
       "2   37.8073   -121.562     Alameda  WDIS_0719152  05/03/1967 09:00   \n",
       "3   37.8073   -121.562     Alameda  WDIS_0719152  05/03/1967 09:00   \n",
       "4   37.8073   -121.562     Alameda  WDIS_0719152  05/03/1967 09:00   \n",
       "\n",
       "   SAMPLE_DEPTH SAMPLE_DEPTH_UNITS            PARAMETER  RESULT  \\\n",
       "0           NaN               Feet          Conductance  3480.0   \n",
       "1           NaN               Feet      Dissolved Boron     7.7   \n",
       "2           NaN               Feet    Dissolved Calcium    68.0   \n",
       "3           NaN               Feet   Dissolved Chloride   758.0   \n",
       "4           NaN               Feet  Dissolved Magnesium    59.0   \n",
       "\n",
       "   REPORTING_LIMIT  UNITS            METHOD_NAME  \n",
       "0              1.0  uS/cm              EPA 120.1  \n",
       "1              0.1   mg/L   Std Method 4500-B, C  \n",
       "2              1.0   mg/L              EPA 215.2  \n",
       "3              0.1   mg/L  Std Method 4500-Cl, B  \n",
       "4              0.1   mg/L  Std Method 3500-Mg, E  "
      ]
     },
     "execution_count": 33,
     "metadata": {},
     "output_type": "execute_result"
    }
   ],
   "source": [
    "# Import the data (would have rather used the API, but the csv will do for now)\n",
    "data = \"data/lab-results.csv\"\n",
    "df = pd.read_csv(data)\n",
    "\n",
    "print(df.shape) # yikes! --> (4278088, 17)\n",
    "df.head()\n",
    "\n",
    "# We need to filter this huge dataset, perhaps by selecting sample measurements from 2000 onward."
   ]
  },
  {
   "cell_type": "code",
   "execution_count": 34,
   "metadata": {},
   "outputs": [],
   "source": [
    "# I want to categorize my data by years; I need to splice the data field\n",
    "df[\"sampleYear\"] = pd.DatetimeIndex(df['SAMPLE_DATE']).year"
   ]
  },
  {
   "cell_type": "code",
   "execution_count": 35,
   "metadata": {},
   "outputs": [
    {
     "name": "stdout",
     "output_type": "stream",
     "text": [
      "(874334, 18)\n",
      "Index(['STATION_ID', 'STATION_NAME', 'FULL_STATION_NAME', 'STATION_NUMBER',\n",
      "       'STATION_TYPE', 'LATITUDE', 'LONGITUDE', 'COUNTY_NAME', 'SAMPLE_CODE',\n",
      "       'SAMPLE_DATE', 'SAMPLE_DEPTH', 'SAMPLE_DEPTH_UNITS', 'PARAMETER',\n",
      "       'RESULT', 'REPORTING_LIMIT', 'UNITS', 'METHOD_NAME', 'sampleYear'],\n",
      "      dtype='object')\n"
     ]
    }
   ],
   "source": [
    "df = df[(df['sampleYear'] > 1999) & (df['sampleYear'] <= 2018)]\n",
    "print(df.shape) # OK...somewhat better --> (822011, 18)\n",
    "print(df.columns) "
   ]
  },
  {
   "cell_type": "code",
   "execution_count": 37,
   "metadata": {},
   "outputs": [],
   "source": [
    "# Re-export filter dataset to a different csv\n",
    "df.to_csv(\"data/lab-results_filter00-18.csv\",index=False)"
   ]
  },
  {
   "cell_type": "code",
   "execution_count": 77,
   "metadata": {},
   "outputs": [
    {
     "data": {
      "text/html": [
       "<div>\n",
       "<style scoped>\n",
       "    .dataframe tbody tr th:only-of-type {\n",
       "        vertical-align: middle;\n",
       "    }\n",
       "\n",
       "    .dataframe tbody tr th {\n",
       "        vertical-align: top;\n",
       "    }\n",
       "\n",
       "    .dataframe thead th {\n",
       "        text-align: right;\n",
       "    }\n",
       "</style>\n",
       "<table border=\"1\" class=\"dataframe\">\n",
       "  <thead>\n",
       "    <tr style=\"text-align: right;\">\n",
       "      <th></th>\n",
       "      <th>STATION_ID</th>\n",
       "      <th>FULL_STATION_NAME</th>\n",
       "      <th>STATION_TYPE</th>\n",
       "      <th>LATITUDE</th>\n",
       "      <th>LONGITUDE</th>\n",
       "      <th>COUNTY_NAME</th>\n",
       "      <th>SAMPLE_CODE</th>\n",
       "      <th>SAMPLE_DATE</th>\n",
       "      <th>SAMPLE_DEPTH</th>\n",
       "      <th>SAMPLE_DEPTH_UNITS</th>\n",
       "      <th>PARAMETER</th>\n",
       "      <th>RESULT</th>\n",
       "      <th>REPORTING_LIMIT</th>\n",
       "      <th>UNITS</th>\n",
       "      <th>METHOD_NAME</th>\n",
       "      <th>sampleYear</th>\n",
       "    </tr>\n",
       "  </thead>\n",
       "  <tbody>\n",
       "    <tr>\n",
       "      <th>0</th>\n",
       "      <td>46213</td>\n",
       "      <td>West bank drain inlet of upstream of SBPP</td>\n",
       "      <td>Surface Water</td>\n",
       "      <td>37.7692</td>\n",
       "      <td>-121.619</td>\n",
       "      <td>Alameda</td>\n",
       "      <td>DA0105B0016</td>\n",
       "      <td>01/25/2005 07:40</td>\n",
       "      <td>0.5</td>\n",
       "      <td>Feet</td>\n",
       "      <td>Dissolved Aluminum</td>\n",
       "      <td>0.000</td>\n",
       "      <td>0.010</td>\n",
       "      <td>mg/L</td>\n",
       "      <td>EPA 200.8 (D)</td>\n",
       "      <td>2005</td>\n",
       "    </tr>\n",
       "    <tr>\n",
       "      <th>1</th>\n",
       "      <td>46213</td>\n",
       "      <td>West bank drain inlet of upstream of SBPP</td>\n",
       "      <td>Surface Water</td>\n",
       "      <td>37.7692</td>\n",
       "      <td>-121.619</td>\n",
       "      <td>Alameda</td>\n",
       "      <td>DA0105B0016</td>\n",
       "      <td>01/25/2005 07:40</td>\n",
       "      <td>0.5</td>\n",
       "      <td>Feet</td>\n",
       "      <td>Dissolved Ammonia</td>\n",
       "      <td>0.050</td>\n",
       "      <td>0.010</td>\n",
       "      <td>mg/L as N</td>\n",
       "      <td>EPA 350.1</td>\n",
       "      <td>2005</td>\n",
       "    </tr>\n",
       "    <tr>\n",
       "      <th>2</th>\n",
       "      <td>46213</td>\n",
       "      <td>West bank drain inlet of upstream of SBPP</td>\n",
       "      <td>Surface Water</td>\n",
       "      <td>37.7692</td>\n",
       "      <td>-121.619</td>\n",
       "      <td>Alameda</td>\n",
       "      <td>DA0105B0016</td>\n",
       "      <td>01/25/2005 07:40</td>\n",
       "      <td>0.5</td>\n",
       "      <td>Feet</td>\n",
       "      <td>Dissolved Antimony</td>\n",
       "      <td>0.000</td>\n",
       "      <td>0.001</td>\n",
       "      <td>mg/L</td>\n",
       "      <td>EPA 200.8 (D)</td>\n",
       "      <td>2005</td>\n",
       "    </tr>\n",
       "    <tr>\n",
       "      <th>3</th>\n",
       "      <td>46213</td>\n",
       "      <td>West bank drain inlet of upstream of SBPP</td>\n",
       "      <td>Surface Water</td>\n",
       "      <td>37.7692</td>\n",
       "      <td>-121.619</td>\n",
       "      <td>Alameda</td>\n",
       "      <td>DA0105B0016</td>\n",
       "      <td>01/25/2005 07:40</td>\n",
       "      <td>0.5</td>\n",
       "      <td>Feet</td>\n",
       "      <td>Dissolved Arsenic</td>\n",
       "      <td>0.003</td>\n",
       "      <td>0.001</td>\n",
       "      <td>mg/L</td>\n",
       "      <td>EPA 200.8 (D)</td>\n",
       "      <td>2005</td>\n",
       "    </tr>\n",
       "    <tr>\n",
       "      <th>4</th>\n",
       "      <td>46213</td>\n",
       "      <td>West bank drain inlet of upstream of SBPP</td>\n",
       "      <td>Surface Water</td>\n",
       "      <td>37.7692</td>\n",
       "      <td>-121.619</td>\n",
       "      <td>Alameda</td>\n",
       "      <td>DA0105B0016</td>\n",
       "      <td>01/25/2005 07:40</td>\n",
       "      <td>0.5</td>\n",
       "      <td>Feet</td>\n",
       "      <td>Dissolved Barium</td>\n",
       "      <td>0.098</td>\n",
       "      <td>0.050</td>\n",
       "      <td>mg/L</td>\n",
       "      <td>EPA 200.8 (D)</td>\n",
       "      <td>2005</td>\n",
       "    </tr>\n",
       "  </tbody>\n",
       "</table>\n",
       "</div>"
      ],
      "text/plain": [
       "   STATION_ID                          FULL_STATION_NAME   STATION_TYPE  \\\n",
       "0       46213  West bank drain inlet of upstream of SBPP  Surface Water   \n",
       "1       46213  West bank drain inlet of upstream of SBPP  Surface Water   \n",
       "2       46213  West bank drain inlet of upstream of SBPP  Surface Water   \n",
       "3       46213  West bank drain inlet of upstream of SBPP  Surface Water   \n",
       "4       46213  West bank drain inlet of upstream of SBPP  Surface Water   \n",
       "\n",
       "   LATITUDE  LONGITUDE COUNTY_NAME  SAMPLE_CODE       SAMPLE_DATE  \\\n",
       "0   37.7692   -121.619     Alameda  DA0105B0016  01/25/2005 07:40   \n",
       "1   37.7692   -121.619     Alameda  DA0105B0016  01/25/2005 07:40   \n",
       "2   37.7692   -121.619     Alameda  DA0105B0016  01/25/2005 07:40   \n",
       "3   37.7692   -121.619     Alameda  DA0105B0016  01/25/2005 07:40   \n",
       "4   37.7692   -121.619     Alameda  DA0105B0016  01/25/2005 07:40   \n",
       "\n",
       "   SAMPLE_DEPTH SAMPLE_DEPTH_UNITS           PARAMETER  RESULT  \\\n",
       "0           0.5               Feet  Dissolved Aluminum   0.000   \n",
       "1           0.5               Feet   Dissolved Ammonia   0.050   \n",
       "2           0.5               Feet  Dissolved Antimony   0.000   \n",
       "3           0.5               Feet   Dissolved Arsenic   0.003   \n",
       "4           0.5               Feet    Dissolved Barium   0.098   \n",
       "\n",
       "   REPORTING_LIMIT      UNITS    METHOD_NAME  sampleYear  \n",
       "0            0.010       mg/L  EPA 200.8 (D)        2005  \n",
       "1            0.010  mg/L as N      EPA 350.1        2005  \n",
       "2            0.001       mg/L  EPA 200.8 (D)        2005  \n",
       "3            0.001       mg/L  EPA 200.8 (D)        2005  \n",
       "4            0.050       mg/L  EPA 200.8 (D)        2005  "
      ]
     },
     "execution_count": 77,
     "metadata": {},
     "output_type": "execute_result"
    }
   ],
   "source": [
    "data = \"data/lab-results_filter00-18.csv\"\n",
    "df = pd.read_csv(data)\n",
    "df = df.drop(['STATION_NAME','STATION_NUMBER'],\n",
    "                        axis=1)\n",
    "df.head()"
   ]
  },
  {
   "cell_type": "code",
   "execution_count": 35,
   "metadata": {},
   "outputs": [
    {
     "name": "stdout",
     "output_type": "stream",
     "text": [
      "-------------------Filter Data Summary---------------------\n",
      "**********************************************************************\n",
      "--------------------Sample Size per Year, 2000-2018---------------------\n",
      "sampleYear\n",
      "2000    52323\n",
      "2001    61553\n",
      "2002    44572\n",
      "2003    71396\n",
      "2004    69077\n",
      "2005    59710\n",
      "2006    66716\n",
      "2007    61033\n",
      "2008    41868\n",
      "2009    41151\n",
      "2010    39286\n",
      "2011    43660\n",
      "2012    41479\n",
      "2013    31578\n",
      "2014    34889\n",
      "2015    36559\n",
      "2016    36421\n",
      "2017    32893\n",
      "2018     8170\n",
      "dtype: int64\n",
      "\n",
      "----------------Count of Parameters measurements--------------------\n",
      "Dissolved Chloride               20759\n",
      "Total Dissolved Solids           19274\n",
      "Dissolved Sulfate                18733\n",
      "Dissolved Ammonia                18620\n",
      "Dissolved Calcium                18352\n",
      "Dissolved Magnesium              18209\n",
      "Dissolved Sodium                 18095\n",
      "Dissolved Boron                  18079\n",
      "Dissolved Hardness               18009\n",
      "Dissolved Ortho-phosphate        17704\n",
      "Dissolved Nitrate + Nitrite      17582\n",
      "pH                               17057\n",
      "Total Alkalinity                 16667\n",
      "Total Phosphorus                 16202\n",
      "Specific Conductance             14838\n",
      "Dissolved Potassium              14821\n",
      "Total Organic Carbon             13670\n",
      "Dissolved Arsenic                12336\n",
      "Total Suspended Solids           12058\n",
      "Dissolved Organic Carbon         11984\n",
      "Dissolved Selenium               11121\n",
      "Dissolved Copper                 10568\n",
      "Dissolved Iron                   10547\n",
      "Dissolved Bromide                10384\n",
      "Dissolved Manganese              10308\n",
      "Dissolved Nitrate                10264\n",
      "Dissolved Aluminum                9705\n",
      "Dissolved Zinc                    9522\n",
      "Dissolved Chromium                9508\n",
      "Dissolved Nickel                  9471\n",
      "                                 ...  \n",
      "Cypermethrin                        25\n",
      "Sumithrin                           25\n",
      "Fenvalerate                         25\n",
      "Allethrin                           25\n",
      "Total Oil and Grease                25\n",
      "Bifenthrin                          25\n",
      "Tefluthrin                          25\n",
      "Fecal Coliform                      24\n",
      "Total Coliform                      24\n",
      "Deltamethrin/Tralomethrin           22\n",
      "Color                               18\n",
      "Total Thallium                      16\n",
      "Propargite                           8\n",
      "Ronnel                               8\n",
      "Bromide                              6\n",
      "Total Strontium                      6\n",
      "4,4'-Dibromoctafluorobiphenyl        4\n",
      "Bicarbonate (HCO3-)                  4\n",
      "4-Bromofluorobenzene                 3\n",
      "Tralomethrin                         3\n",
      "Dissolved Uranium                    3\n",
      "Deltamethrin                         3\n",
      "Total Methyl Mercury                 2\n",
      "Total Lithium                        2\n",
      "Dissolved Methyl Mercury             2\n",
      "2,3-Dibromopropionic acid            1\n",
      "Total Cobalt                         1\n",
      "Total Vanadium                       1\n",
      "Total Molybdenum                     1\n",
      "Settleable Solids                    1\n",
      "Length: 284, dtype: int64\n"
     ]
    }
   ],
   "source": [
    "print('-------------------Filter Data Summary---------------------')\n",
    "print('**********************************************************************')\n",
    "print('--------------------Sample Size per Year, 2000-2018---------------------')\n",
    "print(df.groupby('sampleYear').size())\n",
    "print('')\n",
    "print('----------------Count of Parameters measurements--------------------')\n",
    "print(pd.value_counts(df['PARAMETER'].values, sort=True))"
   ]
  },
  {
   "cell_type": "code",
   "execution_count": 78,
   "metadata": {},
   "outputs": [
    {
     "name": "stdout",
     "output_type": "stream",
     "text": [
      "max: 12.0\n",
      "max: 4.8\n"
     ]
    },
    {
     "data": {
      "image/png": "[encoded data removed]",
      "text/plain": [
       "<Figure size 432x288 with 1 Axes>"
      ]
     },
     "metadata": {},
     "output_type": "display_data"
    }
   ],
   "source": [
    "# pH \n",
    "    # https://water.usgs.gov/edu/ph.html\n",
    "\n",
    "pH_lv = df[df['PARAMETER'] == 'pH']\n",
    "pH_lv['RESULT'].max()\n",
    "\n",
    "pH = pH_lv['RESULT'].dropna()\n",
    "\n",
    "pH = pH[pH != 206.0]\n",
    "pH = pH[pH != 96.6]\n",
    "pH = pH[pH != 21.9]\n",
    "\n",
    "print(\"max: \" + str(pH.max()))\n",
    "print(\"max: \" + str(pH.min()))\n",
    "\n",
    "sns.set(color_codes=True)\n",
    "sns.distplot(pH);"
   ]
  },
  {
   "cell_type": "code",
   "execution_count": 37,
   "metadata": {},
   "outputs": [
    {
     "data": {
      "image/png": "[encoded data removed]",
      "text/plain": [
       "<Figure size 432x432 with 3 Axes>"
      ]
     },
     "metadata": {},
     "output_type": "display_data"
    }
   ],
   "source": [
    "X = df[['LATITUDE', 'LONGITUDE']].values\n",
    "sns.jointplot(x=\"LONGITUDE\", y=\"LATITUDE\", data=df);"
   ]
  },
  {
   "cell_type": "code",
   "execution_count": 31,
   "metadata": {},
   "outputs": [
    {
     "data": {
      "text/plain": [
       "array(['Dissolved Aluminum', 'Dissolved Ammonia', 'Dissolved Antimony',\n",
       "       'Dissolved Arsenic', 'Dissolved Barium', 'Dissolved Beryllium',\n",
       "       'Dissolved Boron', 'Dissolved Bromide', 'Dissolved Cadmium',\n",
       "       'Dissolved Calcium', 'Dissolved Chloride', 'Dissolved Chromium',\n",
       "       'Dissolved Copper', 'Dissolved Fluoride', 'Dissolved Hardness',\n",
       "       'Dissolved Iron', 'Dissolved Lead', 'Dissolved Magnesium',\n",
       "       'Dissolved Manganese', 'Dissolved Mercury', 'Dissolved Nickel',\n",
       "       'Dissolved Nitrate', 'Dissolved Nitrate + Nitrite',\n",
       "       'Dissolved Ortho-phosphate', 'Dissolved Selenium',\n",
       "       'Dissolved Silver', 'Dissolved Sodium', 'Dissolved Sulfate',\n",
       "       'Dissolved Zinc', 'Specific Conductance', 'Total Alkalinity',\n",
       "       'Total Dissolved Solids', 'Total Kjeldahl Nitrogen',\n",
       "       'Total Phosphorus', 'pH', '1,1,1,2-Tetrachloroethane',\n",
       "       '1,1,1-Trichloroethane', '1,1,2,2-Tetrachloroethane',\n",
       "       '1,1,2-Trichloroethane', '1,1-Dichloroethane',\n",
       "       '1,1-Dichloroethene', '1,1-Dichloropropene',\n",
       "       '1,2,3-Trichlorobenzene', '1,2,3-Trichloropropane',\n",
       "       '1,2,4-Trichlorobenzene', '1,2,4-Trimethylbenzene',\n",
       "       '1,2-Dibromo-3-chloropropane (DBCP)', '1,2-Dibromoethane (EDB)',\n",
       "       '1,2-Dichlorobenzene', '1,2-Dichloroethane', '1,2-Dichloropropane',\n",
       "       '1,3,5-Trimethylbenzene', '1,3-Dichlorobenzene',\n",
       "       '1,3-Dichloropropane', '1,4-Dichlorobenzene',\n",
       "       '2,2-Dichloropropane', '2-Chlorotoluene', '4-Chlorotoluene',\n",
       "       '4-Isopropyltoluene', 'Benzene', 'Bromobenzene',\n",
       "       'Bromochloromethane', 'Bromodichloromethane', 'Bromoform',\n",
       "       'Bromomethane', 'Carbon tetrachloride', 'Chlorobenzene',\n",
       "       'Chloroethane', 'Chloroform', 'Chloromethane',\n",
       "       'Dibromochloromethane', 'Dibromomethane',\n",
       "       'Dichlorodifluoromethane', 'Dissolved Organic Carbon',\n",
       "       'Ethyl benzene', 'Hexachlorobutadiene', 'Isopropylbenzene',\n",
       "       'Methyl tert-butyl ether (MTBE)', 'Methylene chloride',\n",
       "       'Naphthalene', 'Styrene', 'Tetrachloroethene', 'Toluene',\n",
       "       'Total Aluminum', 'Total Antimony', 'Total Arsenic',\n",
       "       'Total Barium', 'Total Beryllium', 'Total Cadmium',\n",
       "       'Total Chromium', 'Total Copper', 'Total Iron', 'Total Lead',\n",
       "       'Total Manganese', 'Total Nickel', 'Total Organic Carbon',\n",
       "       'Total Selenium', 'Total Silver', 'Total Suspended Solids',\n",
       "       'Total Zinc', 'Trichloroethene', 'Trichlorofluoromethane',\n",
       "       'Turbidity', 'Vinyl chloride', 'Volatile Suspended Solids',\n",
       "       'cis-1,2-Dichloroethene', 'cis-1,3-Dichloropropene',\n",
       "       'm + p Xylene', 'n-Butylbenzene', 'n-Propylbenzene', 'o-Xylene',\n",
       "       'sec-Butylbenzene', 'tert-Butylbenzene',\n",
       "       'trans-1,2-Dichloroethene', 'trans-1,3-Dichloropropene',\n",
       "       'UV Absorbance @254nm', 'Escherichia coli', '2,4,5-T',\n",
       "       '2,4,5-TP (Silvex)', '2,4-D', '2,4-DB', '3-Hydroxycarbofuran',\n",
       "       'Alachlor', 'Aldicarb', 'Aldicarb sulfone', 'Aldicarb sulfoxide',\n",
       "       'Aldrin', 'Atrazine', 'Azinphos methyl (Guthion)', 'BHC-alpha',\n",
       "       'BHC-beta', 'BHC-delta', 'BHC-gamma (Lindane)', 'Benfluralin',\n",
       "       'Bromacil', 'Captan', 'Carbaryl', 'Carbofuran',\n",
       "       'Carbophenothion (Trithion)', 'Chlordane', 'Chlorothalonil',\n",
       "       'Chlorpropham', 'Chlorpyrifos', 'Cyanazine', 'Dacthal (DCPA)',\n",
       "       'Demeton (Demeton O + Demeton S)', 'Diazinon', 'Dicamba',\n",
       "       'Dichloran', 'Dichlorprop', 'Dicofol', 'Dieldrin', 'Dimethoate',\n",
       "       'Dinoseb (DNPB)', 'Dissolved Chromium, hexavalent (Cr6+)',\n",
       "       'Disulfoton', 'Diuron', 'Endosulfan sulfate', 'Endosulfan-I',\n",
       "       'Endosulfan-II', 'Endrin', 'Endrin aldehyde', 'Ethion',\n",
       "       'Glyphosate', 'Heptachlor', 'Heptachlor epoxide', 'MCPA', 'MCPP',\n",
       "       'Malathion', 'Methidathion', 'Methomyl', 'Methoxychlor',\n",
       "       'Metolachlor', 'Mevinphos', 'Naled', 'Napropamide', 'Norflurazon',\n",
       "       'Oxamyl', 'Oxyfluorfen', 'PCB-1016', 'PCB-1221', 'PCB-1232',\n",
       "       'PCB-1242', 'PCB-1248', 'PCB-1254', 'PCB-1260', 'Parathion, Ethyl',\n",
       "       'Parathion, Methyl', 'Pendimethalin',\n",
       "       'Pentachloronitrobenzene (PCNB)', 'Pentachlorophenol (PCP)',\n",
       "       'Phorate', 'Phosalone', 'Phosmet', 'Picloram', 'Profenofos',\n",
       "       'Prometryn', 'Propetamphos', 'Simazine', 'Thiobencarb',\n",
       "       'Toxaphene', 'Triclopyr', 'Trifluralin', \"p,p'-DDD\", \"p,p'-DDE\",\n",
       "       \"p,p'-DDT\", 's,s,s-Tributyl Phosphorotrithioate (DEF)',\n",
       "       'Aminomethylphosphonic Acid (AMPA)', 'Formetanate hydrochloride',\n",
       "       'Methiocarb', 'Bromochloroacetic Acid (BCAA)',\n",
       "       'Dibromoacetic Acid (DBAA)', 'Dichloroacetic Acid (DCAA)',\n",
       "       'Monobromoacetic Acid (MBAA)', 'Monochloroacetic Acid (MCAA)',\n",
       "       'Trichloroacetic Acid (TCAA)', 'Dissolved Potassium',\n",
       "       '4-Bromofluorobenzene', '*No Lab Analyses (Field Measures Only)',\n",
       "       'Esfenvalerate', 'Molinate', 'Permethrin', \"o,p'-DDE\",\n",
       "       'Chloropropham', 'Propoxur', 'Dissolved Thallium', 'Propargite',\n",
       "       'Total Thallium', 'Dissolved Nitrite', '2,3-Dibromopropionic acid',\n",
       "       'Dissolved Bicarbonate (HCO3-)', 'Dissolved Carbonate (CO3--)',\n",
       "       'Dissolved Hydroxide (OH-)', 'Total Calcium', 'Total Magnesium',\n",
       "       'Total Hardness', 'Total Mercury', 'Dissolved Organic Nitrogen',\n",
       "       'Total Oil and Grease', 'Dissolved Silica (SiO2)', 'Chlorophyll a',\n",
       "       'Pheophytin a', 'Biochemical Oxygen Demand',\n",
       "       'Carbonaceous Biochemical Oxygen Demand',\n",
       "       'Dissolved Total Kjeldahl Nitrogen', 'Dissolved Molybdenum',\n",
       "       'Settleable Solids', 'Total Strontium', 'Total Lithium',\n",
       "       'Total Cobalt', 'Total Molybdenum', 'Total Vanadium', 'Ronnel',\n",
       "       'Dissolved Uranium', 'Bicarbonate (HCO3-)', 'Dissolved Lithium',\n",
       "       'Dissolved Strontium', 'Total Ammonia', 'Total Organic Nitrogen',\n",
       "       'Dissolved Cobalt', 'Dissolved Vanadium',\n",
       "       \"4,4'-Dibromoctafluorobiphenyl\", 'Allethrin', 'Bifenthrin',\n",
       "       'Cyfluthrin', 'Cypermethrin', 'Deltamethrin/Tralomethrin',\n",
       "       'Fenvalerate', 'Prallethrin', 'Sumithrin', 'Tefluthrin',\n",
       "       'l-Cyhalothrin', 'Fecal Coliform', 'Total Coliform',\n",
       "       'Deltamethrin', 'Tralomethrin', 'Bromide', 'Total Potassium',\n",
       "       'Total Sodium', 'Haloacetic Acid Formation Potential (HAAFP)',\n",
       "       'Trihalomethane Formation Potential (THMFP)',\n",
       "       'Dissolved Methyl Mercury', 'Total Methyl Mercury', 'Color'],\n",
       "      dtype=object)"
      ]
     },
     "execution_count": 31,
     "metadata": {},
     "output_type": "execute_result"
    }
   ],
   "source": [
    "df['PARAMETER'].unique()"
   ]
  },
  {
   "cell_type": "markdown",
   "metadata": {},
   "source": [
    "PMCLs"
   ]
  },
  {
   "cell_type": "code",
   "execution_count": 79,
   "metadata": {},
   "outputs": [
    {
     "data": {
      "text/plain": [
       "array(['mg/L', 'ug/L'], dtype=object)"
      ]
     },
     "execution_count": 79,
     "metadata": {},
     "output_type": "execute_result"
    }
   ],
   "source": [
    "AL = df[df['PARAMETER'] == 'Total Aluminum']\n",
    "AL['RESULT'].max() # --> 20525 .... ug/L ! \n",
    "AL['UNITS'].unique() # --> ['mg/L', 'ug/L']\n",
    "# I have measurements in both mg/L & ug/L, units need to be normalized."
   ]
  },
  {
   "cell_type": "code",
   "execution_count": 80,
   "metadata": {},
   "outputs": [
    {
     "name": "stderr",
     "output_type": "stream",
     "text": [
      "C:\\Users\\White Base\\AppData\\Local\\conda\\conda\\envs\\FinalProject\\lib\\site-packages\\ipykernel_launcher.py:2: SettingWithCopyWarning: \n",
      "A value is trying to be set on a copy of a slice from a DataFrame.\n",
      "Try using .loc[row_indexer,col_indexer] = value instead\n",
      "\n",
      "See the caveats in the documentation: http://pandas.pydata.org/pandas-docs/stable/indexing.html#indexing-view-versus-copy\n",
      "  \n"
     ]
    }
   ],
   "source": [
    "# Convert ug/L to mg/L\n",
    "AL['convert'] = np.where(AL['UNITS'] == 'ug/L', AL['RESULT'] / 1000, AL['RESULT'])"
   ]
  },
  {
   "cell_type": "code",
   "execution_count": 81,
   "metadata": {},
   "outputs": [
    {
     "name": "stdout",
     "output_type": "stream",
     "text": [
      "max: 20.525\n",
      "max: 0.0\n"
     ]
    },
    {
     "data": {
      "image/png": "[encoded data removed]",
      "text/plain": [
       "<Figure size 432x288 with 1 Axes>"
      ]
     },
     "metadata": {},
     "output_type": "display_data"
    }
   ],
   "source": [
    "print(\"max: \" + str(AL['convert'].max()))\n",
    "print(\"max: \" + str(AL['convert'].min()))\n",
    "\n",
    "AL = AL['convert'].dropna()\n",
    "\n",
    "sns.set(color_codes=True)\n",
    "sns.distplot(AL); # Need to bin outlier values"
   ]
  },
  {
   "cell_type": "code",
   "execution_count": 82,
   "metadata": {},
   "outputs": [],
   "source": [
    "import numpy as np\n",
    "import pandas as pd\n",
    "import matplotlib\n",
    "# https://hamelg.blogspot.com/2015/11/python-for-data-analysis-part-19.html"
   ]
  },
  {
   "cell_type": "code",
   "execution_count": 84,
   "metadata": {},
   "outputs": [
    {
     "name": "stdout",
     "output_type": "stream",
     "text": [
      "max: 20.525\n",
      "max: 0.0\n"
     ]
    }
   ],
   "source": [
    "print(\"max: \" + str(AL.max()))\n",
    "print(\"max: \" + str(AL.min()))"
   ]
  },
  {
   "cell_type": "code",
   "execution_count": 86,
   "metadata": {},
   "outputs": [
    {
     "data": {
      "text/plain": [
       "<matplotlib.axes._subplots.AxesSubplot at 0x21a37176ef0>"
      ]
     },
     "execution_count": 86,
     "metadata": {},
     "output_type": "execute_result"
    },
    {
     "data": {
      "image/png": "[encoded data removed]",
      "text/plain": [
       "<Figure size 576x576 with 1 Axes>"
      ]
     },
     "metadata": {},
     "output_type": "display_data"
    }
   ],
   "source": [
    "AL.hist(figsize=(8,8),         # Plot size\n",
    "        color=\"blue\") # Again, we have a single outlier value skewing the histogram"
   ]
  },
  {
   "cell_type": "code",
   "execution_count": 89,
   "metadata": {},
   "outputs": [
    {
     "data": {
      "text/plain": [
       "<matplotlib.axes._subplots.AxesSubplot at 0x21a02db0e80>"
      ]
     },
     "execution_count": 89,
     "metadata": {},
     "output_type": "execute_result"
    },
    {
     "data": {
      "image/png": "[encoded data removed]",
      "text/plain": [
       "<Figure size 576x576 with 1 Axes>"
      ]
     },
     "metadata": {},
     "output_type": "display_data"
    }
   ],
   "source": [
    "AL.hist(        \n",
    "              figsize=(8,8),         # Plot size\n",
    "              color=\"blue\",          # Plot color\n",
    "              bins=50,               # Use 50 bins\n",
    "              range= (0,.8))        # Limit x-axis range"
   ]
  },
  {
   "cell_type": "code",
   "execution_count": 92,
   "metadata": {},
   "outputs": [
    {
     "data": {
      "text/plain": [
       "<matplotlib.axes._subplots.AxesSubplot at 0x21a028ac8d0>"
      ]
     },
     "execution_count": 92,
     "metadata": {},
     "output_type": "execute_result"
    },
    {
     "data": {
      "image/png": "[encoded data removed]",
      "text/plain": [
       "<Figure size 576x576 with 1 Axes>"
      ]
     },
     "metadata": {},
     "output_type": "display_data"
    }
   ],
   "source": [
    "df.boxplot(column=\"RESULT\",        # Column to plot\n",
    "                 by= \"PARAMETER\",         # Column to split upon\n",
    "                 figsize= (8,8))  "
   ]
  },
  {
   "cell_type": "code",
   "execution_count": null,
   "metadata": {},
   "outputs": [],
   "source": [
    "#######################################################################################################################"
   ]
  },
  {
   "cell_type": "code",
   "execution_count": 2,
   "metadata": {},
   "outputs": [
    {
     "data": {
      "text/html": [
       "<div>\n",
       "<style scoped>\n",
       "    .dataframe tbody tr th:only-of-type {\n",
       "        vertical-align: middle;\n",
       "    }\n",
       "\n",
       "    .dataframe tbody tr th {\n",
       "        vertical-align: top;\n",
       "    }\n",
       "\n",
       "    .dataframe thead th {\n",
       "        text-align: right;\n",
       "    }\n",
       "</style>\n",
       "<table border=\"1\" class=\"dataframe\">\n",
       "  <thead>\n",
       "    <tr style=\"text-align: right;\">\n",
       "      <th></th>\n",
       "      <th>STATION_ID</th>\n",
       "      <th>FULL_STATION_NAME</th>\n",
       "      <th>STATION_TYPE</th>\n",
       "      <th>LATITUDE</th>\n",
       "      <th>LONGITUDE</th>\n",
       "      <th>COUNTY_NAME</th>\n",
       "      <th>SAMPLE_CODE</th>\n",
       "      <th>SAMPLE_DATE</th>\n",
       "      <th>SAMPLE_DEPTH</th>\n",
       "      <th>SAMPLE_DEPTH_UNITS</th>\n",
       "      <th>PARAMETER</th>\n",
       "      <th>RESULT</th>\n",
       "      <th>REPORTING_LIMIT</th>\n",
       "      <th>UNITS</th>\n",
       "      <th>METHOD_NAME</th>\n",
       "      <th>sampleYear</th>\n",
       "    </tr>\n",
       "  </thead>\n",
       "  <tbody>\n",
       "    <tr>\n",
       "      <th>0</th>\n",
       "      <td>46213</td>\n",
       "      <td>West bank drain inlet of upstream of SBPP</td>\n",
       "      <td>Surface Water</td>\n",
       "      <td>37.7692</td>\n",
       "      <td>-121.619</td>\n",
       "      <td>Alameda</td>\n",
       "      <td>DA0105B0016</td>\n",
       "      <td>01/25/2005 07:40</td>\n",
       "      <td>0.5</td>\n",
       "      <td>Feet</td>\n",
       "      <td>Dissolved Aluminum</td>\n",
       "      <td>0.000</td>\n",
       "      <td>0.010</td>\n",
       "      <td>mg/L</td>\n",
       "      <td>EPA 200.8 (D)</td>\n",
       "      <td>2005</td>\n",
       "    </tr>\n",
       "    <tr>\n",
       "      <th>1</th>\n",
       "      <td>46213</td>\n",
       "      <td>West bank drain inlet of upstream of SBPP</td>\n",
       "      <td>Surface Water</td>\n",
       "      <td>37.7692</td>\n",
       "      <td>-121.619</td>\n",
       "      <td>Alameda</td>\n",
       "      <td>DA0105B0016</td>\n",
       "      <td>01/25/2005 07:40</td>\n",
       "      <td>0.5</td>\n",
       "      <td>Feet</td>\n",
       "      <td>Dissolved Ammonia</td>\n",
       "      <td>0.050</td>\n",
       "      <td>0.010</td>\n",
       "      <td>mg/L as N</td>\n",
       "      <td>EPA 350.1</td>\n",
       "      <td>2005</td>\n",
       "    </tr>\n",
       "    <tr>\n",
       "      <th>2</th>\n",
       "      <td>46213</td>\n",
       "      <td>West bank drain inlet of upstream of SBPP</td>\n",
       "      <td>Surface Water</td>\n",
       "      <td>37.7692</td>\n",
       "      <td>-121.619</td>\n",
       "      <td>Alameda</td>\n",
       "      <td>DA0105B0016</td>\n",
       "      <td>01/25/2005 07:40</td>\n",
       "      <td>0.5</td>\n",
       "      <td>Feet</td>\n",
       "      <td>Dissolved Antimony</td>\n",
       "      <td>0.000</td>\n",
       "      <td>0.001</td>\n",
       "      <td>mg/L</td>\n",
       "      <td>EPA 200.8 (D)</td>\n",
       "      <td>2005</td>\n",
       "    </tr>\n",
       "    <tr>\n",
       "      <th>3</th>\n",
       "      <td>46213</td>\n",
       "      <td>West bank drain inlet of upstream of SBPP</td>\n",
       "      <td>Surface Water</td>\n",
       "      <td>37.7692</td>\n",
       "      <td>-121.619</td>\n",
       "      <td>Alameda</td>\n",
       "      <td>DA0105B0016</td>\n",
       "      <td>01/25/2005 07:40</td>\n",
       "      <td>0.5</td>\n",
       "      <td>Feet</td>\n",
       "      <td>Dissolved Arsenic</td>\n",
       "      <td>0.003</td>\n",
       "      <td>0.001</td>\n",
       "      <td>mg/L</td>\n",
       "      <td>EPA 200.8 (D)</td>\n",
       "      <td>2005</td>\n",
       "    </tr>\n",
       "    <tr>\n",
       "      <th>4</th>\n",
       "      <td>46213</td>\n",
       "      <td>West bank drain inlet of upstream of SBPP</td>\n",
       "      <td>Surface Water</td>\n",
       "      <td>37.7692</td>\n",
       "      <td>-121.619</td>\n",
       "      <td>Alameda</td>\n",
       "      <td>DA0105B0016</td>\n",
       "      <td>01/25/2005 07:40</td>\n",
       "      <td>0.5</td>\n",
       "      <td>Feet</td>\n",
       "      <td>Dissolved Barium</td>\n",
       "      <td>0.098</td>\n",
       "      <td>0.050</td>\n",
       "      <td>mg/L</td>\n",
       "      <td>EPA 200.8 (D)</td>\n",
       "      <td>2005</td>\n",
       "    </tr>\n",
       "  </tbody>\n",
       "</table>\n",
       "</div>"
      ],
      "text/plain": [
       "   STATION_ID                          FULL_STATION_NAME   STATION_TYPE  \\\n",
       "0       46213  West bank drain inlet of upstream of SBPP  Surface Water   \n",
       "1       46213  West bank drain inlet of upstream of SBPP  Surface Water   \n",
       "2       46213  West bank drain inlet of upstream of SBPP  Surface Water   \n",
       "3       46213  West bank drain inlet of upstream of SBPP  Surface Water   \n",
       "4       46213  West bank drain inlet of upstream of SBPP  Surface Water   \n",
       "\n",
       "   LATITUDE  LONGITUDE COUNTY_NAME  SAMPLE_CODE       SAMPLE_DATE  \\\n",
       "0   37.7692   -121.619     Alameda  DA0105B0016  01/25/2005 07:40   \n",
       "1   37.7692   -121.619     Alameda  DA0105B0016  01/25/2005 07:40   \n",
       "2   37.7692   -121.619     Alameda  DA0105B0016  01/25/2005 07:40   \n",
       "3   37.7692   -121.619     Alameda  DA0105B0016  01/25/2005 07:40   \n",
       "4   37.7692   -121.619     Alameda  DA0105B0016  01/25/2005 07:40   \n",
       "\n",
       "   SAMPLE_DEPTH SAMPLE_DEPTH_UNITS           PARAMETER  RESULT  \\\n",
       "0           0.5               Feet  Dissolved Aluminum   0.000   \n",
       "1           0.5               Feet   Dissolved Ammonia   0.050   \n",
       "2           0.5               Feet  Dissolved Antimony   0.000   \n",
       "3           0.5               Feet   Dissolved Arsenic   0.003   \n",
       "4           0.5               Feet    Dissolved Barium   0.098   \n",
       "\n",
       "   REPORTING_LIMIT      UNITS    METHOD_NAME  sampleYear  \n",
       "0            0.010       mg/L  EPA 200.8 (D)        2005  \n",
       "1            0.010  mg/L as N      EPA 350.1        2005  \n",
       "2            0.001       mg/L  EPA 200.8 (D)        2005  \n",
       "3            0.001       mg/L  EPA 200.8 (D)        2005  \n",
       "4            0.050       mg/L  EPA 200.8 (D)        2005  "
      ]
     },
     "execution_count": 2,
     "metadata": {},
     "output_type": "execute_result"
    }
   ],
   "source": [
    "data = \"data/lab-results_filter00-18.csv\"\n",
    "df = pd.read_csv(data)\n",
    "df = df.drop(['STATION_NAME','STATION_NUMBER'],\n",
    "                        axis=1)\n",
    "df.head()"
   ]
  },
  {
   "cell_type": "code",
   "execution_count": 9,
   "metadata": {},
   "outputs": [],
   "source": [
    "# https://stackoverflow.com/questions/17071871/select-rows-from-a-dataframe-based-on-values-in-a-column-in-pandas"
   ]
  },
  {
   "cell_type": "code",
   "execution_count": 6,
   "metadata": {},
   "outputs": [],
   "source": [
    "PMCLs = df.loc[(df['PARAMETER'] == 'Total Arsenic') | (df['PARAMETER'] == 'Total Mercury') | (df['PARAMETER'] == 'Dissolved Nitrate') | (df['PARAMETER'] == 'Total Lead') | (df['PARAMETER'] == 'Total Selenium')]\n"
   ]
  },
  {
   "cell_type": "code",
   "execution_count": 8,
   "metadata": {},
   "outputs": [
    {
     "data": {
      "text/plain": [
       "<matplotlib.axes._subplots.AxesSubplot at 0x2174658b3c8>"
      ]
     },
     "execution_count": 8,
     "metadata": {},
     "output_type": "execute_result"
    },
    {
     "data": {
      "image/png": "[encoded data removed]",
      "text/plain": [
       "<Figure size 576x576 with 1 Axes>"
      ]
     },
     "metadata": {},
     "output_type": "display_data"
    }
   ],
   "source": [
    "PMCLs.boxplot(column=\"RESULT\",        # Column to plot\n",
    "                 by= \"PARAMETER\",         # Column to split upon\n",
    "                 figsize= (8,8))  "
   ]
  },
  {
   "cell_type": "code",
   "execution_count": null,
   "metadata": {},
   "outputs": [],
   "source": []
  },
  {
   "cell_type": "code",
   "execution_count": null,
   "metadata": {},
   "outputs": [],
   "source": []
  }
 ],
 "metadata": {
  "kernelspec": {
   "display_name": "Python 3",
   "language": "python",
   "name": "python3"
  },
  "language_info": {
   "codemirror_mode": {
    "name": "ipython",
    "version": 3
   },
   "file_extension": ".py",
   "mimetype": "text/x-python",
   "name": "python",
   "nbconvert_exporter": "python",
   "pygments_lexer": "ipython3",
   "version": "3.6.5"
  }
 },
 "nbformat": 4,
 "nbformat_minor": 2
}
